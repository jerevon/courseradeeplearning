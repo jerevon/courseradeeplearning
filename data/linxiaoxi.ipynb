{
 "cells": [
  {
   "cell_type": "code",
   "execution_count": 1,
   "metadata": {
    "collapsed": true
   },
   "outputs": [],
   "source": [
    "import pandas as pd\n",
    "filename = 'target_gene_prediction.xlsx'"
   ]
  },
  {
   "cell_type": "code",
   "execution_count": 3,
   "metadata": {
    "collapsed": false
   },
   "outputs": [
    {
     "data": {
      "text/html": [
       "<div>\n",
       "<table border=\"1\" class=\"dataframe\">\n",
       "  <thead>\n",
       "    <tr style=\"text-align: right;\">\n",
       "      <th></th>\n",
       "      <th>Ortholog of target gene</th>\n",
       "      <th>Gene Symbol</th>\n",
       "      <th>miRanda</th>\n",
       "      <th>PicTar</th>\n",
       "    </tr>\n",
       "  </thead>\n",
       "  <tbody>\n",
       "    <tr>\n",
       "      <th>0</th>\n",
       "      <td>ELOVL2</td>\n",
       "      <td>KCNA6</td>\n",
       "      <td>GMEB2+D1:D2702</td>\n",
       "      <td>Click here for detailed 3'utr alignments and l...</td>\n",
       "    </tr>\n",
       "    <tr>\n",
       "      <th>1</th>\n",
       "      <td>BDNF</td>\n",
       "      <td>BDNF</td>\n",
       "      <td>VSIG2</td>\n",
       "      <td>2NM_020922All miRNA predictions8.35hsa-miR-10b...</td>\n",
       "    </tr>\n",
       "    <tr>\n",
       "      <th>2</th>\n",
       "      <td>VWC2L</td>\n",
       "      <td>TFAP2C</td>\n",
       "      <td>ZNF451</td>\n",
       "      <td>3NM_020526All miRNA predictions7.90hsa-miR-10b...</td>\n",
       "    </tr>\n",
       "    <tr>\n",
       "      <th>3</th>\n",
       "      <td>DAZAP1</td>\n",
       "      <td>CSMD1</td>\n",
       "      <td>ZNF451</td>\n",
       "      <td>4NM_000840All miRNA predictions7.28hsa-miR-10b...</td>\n",
       "    </tr>\n",
       "    <tr>\n",
       "      <th>4</th>\n",
       "      <td>TFRC</td>\n",
       "      <td>RORA</td>\n",
       "      <td>GFOD2</td>\n",
       "      <td>5NM_018013All miRNA predictions6.25hsa-miR-10b...</td>\n",
       "    </tr>\n",
       "  </tbody>\n",
       "</table>\n",
       "</div>"
      ],
      "text/plain": [
       "  Ortholog of target gene Gene Symbol         miRanda  \\\n",
       "0                  ELOVL2       KCNA6  GMEB2+D1:D2702   \n",
       "1                    BDNF        BDNF           VSIG2   \n",
       "2                   VWC2L      TFAP2C          ZNF451   \n",
       "3                  DAZAP1       CSMD1          ZNF451   \n",
       "4                    TFRC        RORA           GFOD2   \n",
       "\n",
       "                                              PicTar  \n",
       "0  Click here for detailed 3'utr alignments and l...  \n",
       "1  2NM_020922All miRNA predictions8.35hsa-miR-10b...  \n",
       "2  3NM_020526All miRNA predictions7.90hsa-miR-10b...  \n",
       "3  4NM_000840All miRNA predictions7.28hsa-miR-10b...  \n",
       "4  5NM_018013All miRNA predictions6.25hsa-miR-10b...  "
      ]
     },
     "execution_count": 3,
     "metadata": {},
     "output_type": "execute_result"
    }
   ],
   "source": [
    "data = pd.read_excel(filename)\n",
    "data.head()"
   ]
  },
  {
   "cell_type": "code",
   "execution_count": 8,
   "metadata": {
    "collapsed": false
   },
   "outputs": [
    {
     "data": {
      "text/plain": [
       "2761"
      ]
     },
     "execution_count": 8,
     "metadata": {},
     "output_type": "execute_result"
    }
   ],
   "source": [
    "len(data['PicTar'])"
   ]
  },
  {
   "cell_type": "code",
   "execution_count": 65,
   "metadata": {
    "collapsed": false,
    "scrolled": true
   },
   "outputs": [
    {
     "data": {
      "text/html": [
       "<div>\n",
       "<table border=\"1\" class=\"dataframe\">\n",
       "  <thead>\n",
       "    <tr style=\"text-align: right;\">\n",
       "      <th></th>\n",
       "      <th>Ortholog of target gene</th>\n",
       "      <th>Gene Symbol</th>\n",
       "      <th>miRanda</th>\n",
       "      <th>PicTar</th>\n",
       "      <th>search</th>\n",
       "    </tr>\n",
       "  </thead>\n",
       "  <tbody>\n",
       "    <tr>\n",
       "      <th>0</th>\n",
       "      <td>ELOVL2</td>\n",
       "      <td>KCNA6</td>\n",
       "      <td>GMEB2+D1:D2702</td>\n",
       "      <td>Click here for detailed 3'utr alignments and l...</td>\n",
       "      <td>PRKWNK3</td>\n",
       "    </tr>\n",
       "    <tr>\n",
       "      <th>1</th>\n",
       "      <td>BDNF</td>\n",
       "      <td>BDNF</td>\n",
       "      <td>VSIG2</td>\n",
       "      <td>2NM_020922All miRNA predictions8.35hsa-miR-10b...</td>\n",
       "      <td>PRKWNK3</td>\n",
       "    </tr>\n",
       "    <tr>\n",
       "      <th>2</th>\n",
       "      <td>VWC2L</td>\n",
       "      <td>TFAP2C</td>\n",
       "      <td>ZNF451</td>\n",
       "      <td>3NM_020526All miRNA predictions7.90hsa-miR-10b...</td>\n",
       "      <td>EPHA8</td>\n",
       "    </tr>\n",
       "    <tr>\n",
       "      <th>3</th>\n",
       "      <td>DAZAP1</td>\n",
       "      <td>CSMD1</td>\n",
       "      <td>ZNF451</td>\n",
       "      <td>4NM_000840All miRNA predictions7.28hsa-miR-10b...</td>\n",
       "      <td>GRM3</td>\n",
       "    </tr>\n",
       "    <tr>\n",
       "      <th>4</th>\n",
       "      <td>TFRC</td>\n",
       "      <td>RORA</td>\n",
       "      <td>GFOD2</td>\n",
       "      <td>5NM_018013All miRNA predictions6.25hsa-miR-10b...</td>\n",
       "      <td>FLJ10159</td>\n",
       "    </tr>\n",
       "  </tbody>\n",
       "</table>\n",
       "</div>"
      ],
      "text/plain": [
       "  Ortholog of target gene Gene Symbol         miRanda  \\\n",
       "0                  ELOVL2       KCNA6  GMEB2+D1:D2702   \n",
       "1                    BDNF        BDNF           VSIG2   \n",
       "2                   VWC2L      TFAP2C          ZNF451   \n",
       "3                  DAZAP1       CSMD1          ZNF451   \n",
       "4                    TFRC        RORA           GFOD2   \n",
       "\n",
       "                                              PicTar    search  \n",
       "0  Click here for detailed 3'utr alignments and l...   PRKWNK3  \n",
       "1  2NM_020922All miRNA predictions8.35hsa-miR-10b...   PRKWNK3  \n",
       "2  3NM_020526All miRNA predictions7.90hsa-miR-10b...     EPHA8  \n",
       "3  4NM_000840All miRNA predictions7.28hsa-miR-10b...      GRM3  \n",
       "4  5NM_018013All miRNA predictions6.25hsa-miR-10b...  FLJ10159  "
      ]
     },
     "execution_count": 65,
     "metadata": {},
     "output_type": "execute_result"
    }
   ],
   "source": [
    "data['search'] = data['PicTar'].str.replace(r'[^(]*\\(|\\)[^)]*', '')\n",
    "data.head()\n",
    "# ^( 表示不是左括号开头的"
   ]
  },
  {
   "cell_type": "code",
   "execution_count": 92,
   "metadata": {
    "collapsed": false
   },
   "outputs": [
    {
     "name": "stderr",
     "output_type": "stream",
     "text": [
      "C:\\WinPython-64bit-3.4.4.2\\python-3.4.4.amd64\\lib\\site-packages\\ipykernel\\__main__.py:2: FutureWarning: currently extract(expand=None) means expand=False (return Index/Series/DataFrame) but in a future version of pandas this will be changed to expand=True (return DataFrame)\n",
      "  from ipykernel import kernelapp as app\n"
     ]
    },
    {
     "data": {
      "text/plain": [
       "0        PRKWNK3\n",
       "1        PRKWNK3\n",
       "2          EPHA8\n",
       "3           GRM3\n",
       "4       FLJ10159\n",
       "5          ACTG1\n",
       "6         CGI-72\n",
       "7         CGI-72\n",
       "8           FLT1\n",
       "9       ARHGAP12\n",
       "10          E2F7\n",
       "11         NR4A3\n",
       "12         NR4A3\n",
       "13         NR4A3\n",
       "14          FXR2\n",
       "15      MGC48998\n",
       "16      FLJ14768\n",
       "17        DOCK11\n",
       "18        ZNF367\n",
       "19       C16orf5\n",
       "20        ELAVL2\n",
       "21      KIAA1194\n",
       "22       SLC25A1\n",
       "23       SLC41A2\n",
       "24        HOXD10\n",
       "25        MAPRE1\n",
       "26        SCARB2\n",
       "27      FLJ20225\n",
       "28        GRIN3A\n",
       "29        DAZAP1\n",
       "          ...   \n",
       "2731         NaN\n",
       "2732         NaN\n",
       "2733         NaN\n",
       "2734         NaN\n",
       "2735         NaN\n",
       "2736         NaN\n",
       "2737         NaN\n",
       "2738         NaN\n",
       "2739         NaN\n",
       "2740         NaN\n",
       "2741         NaN\n",
       "2742         NaN\n",
       "2743         NaN\n",
       "2744         NaN\n",
       "2745         NaN\n",
       "2746         NaN\n",
       "2747         NaN\n",
       "2748         NaN\n",
       "2749         NaN\n",
       "2750         NaN\n",
       "2751         NaN\n",
       "2752         NaN\n",
       "2753         NaN\n",
       "2754         NaN\n",
       "2755         NaN\n",
       "2756         NaN\n",
       "2757         NaN\n",
       "2758         NaN\n",
       "2759         NaN\n",
       "2760         NaN\n",
       "Name: PicTar, dtype: object"
      ]
     },
     "execution_count": 92,
     "metadata": {},
     "output_type": "execute_result"
    }
   ],
   "source": [
    "# this way also be possible \n",
    "data['PicTar'].str.extract(r'.*\\((.*)\\).*')"
   ]
  },
  {
   "cell_type": "code",
   "execution_count": 67,
   "metadata": {
    "collapsed": false
   },
   "outputs": [],
   "source": [
    "uniques4 = set(data['search'].unique().ravel())\n",
    "uniques1 = set(data['Ortholog of target gene'].unique().ravel())\n",
    "uniques2 = set(data['Gene Symbol'].unique().ravel())\n",
    "uniques3 = set(data['miRanda'].unique().ravel())"
   ]
  },
  {
   "cell_type": "code",
   "execution_count": 68,
   "metadata": {
    "collapsed": false,
    "scrolled": true
   },
   "outputs": [
    {
     "name": "stdout",
     "output_type": "stream",
     "text": [
      "105 74 31\n"
     ]
    },
    {
     "data": {
      "text/plain": [
       "{'ANKFY1',\n",
       " 'ARNT',\n",
       " 'ARRDC3',\n",
       " 'BACH2',\n",
       " 'BCL6',\n",
       " 'BDNF',\n",
       " 'CAMK2G',\n",
       " 'CECR6',\n",
       " 'CSMD1',\n",
       " 'DAZAP1',\n",
       " 'DOCK11',\n",
       " 'EBF2',\n",
       " 'EPHA4',\n",
       " 'GTF2H1',\n",
       " 'HAS3',\n",
       " 'HOXA1',\n",
       " 'HOXA3',\n",
       " 'MAPRE1',\n",
       " 'NCOA6',\n",
       " 'NCOR2',\n",
       " 'NFAT5',\n",
       " 'NR4A3',\n",
       " 'SDC1',\n",
       " 'SLC38A2',\n",
       " 'SON',\n",
       " 'TBX5',\n",
       " 'TFAP2C',\n",
       " 'TRIM2',\n",
       " 'XRN1',\n",
       " 'ZMYND11',\n",
       " 'ZNF367'}"
      ]
     },
     "execution_count": 68,
     "metadata": {},
     "output_type": "execute_result"
    }
   ],
   "source": [
    "result1 = uniques1.intersection(uniques2) \n",
    "result2 = uniques3.intersection(uniques4)\n",
    "final = result1.intersection(result2)\n",
    "print (len(result1), len(result2), len(final))\n",
    "\n",
    "final"
   ]
  },
  {
   "cell_type": "code",
   "execution_count": 69,
   "metadata": {
    "collapsed": false
   },
   "outputs": [
    {
     "data": {
      "text/html": [
       "<div>\n",
       "<table border=\"1\" class=\"dataframe\">\n",
       "  <thead>\n",
       "    <tr style=\"text-align: right;\">\n",
       "      <th></th>\n",
       "      <th>Ortholog of target gene</th>\n",
       "      <th>Gene Symbol</th>\n",
       "      <th>miRanda</th>\n",
       "      <th>PicTar</th>\n",
       "      <th>search</th>\n",
       "      <th>result</th>\n",
       "    </tr>\n",
       "  </thead>\n",
       "  <tbody>\n",
       "    <tr>\n",
       "      <th>0</th>\n",
       "      <td>ELOVL2</td>\n",
       "      <td>KCNA6</td>\n",
       "      <td>GMEB2+D1:D2702</td>\n",
       "      <td>Click here for detailed 3'utr alignments and l...</td>\n",
       "      <td>PRKWNK3</td>\n",
       "      <td>EBF2</td>\n",
       "    </tr>\n",
       "    <tr>\n",
       "      <th>1</th>\n",
       "      <td>BDNF</td>\n",
       "      <td>BDNF</td>\n",
       "      <td>VSIG2</td>\n",
       "      <td>2NM_020922All miRNA predictions8.35hsa-miR-10b...</td>\n",
       "      <td>PRKWNK3</td>\n",
       "      <td>NCOA6</td>\n",
       "    </tr>\n",
       "    <tr>\n",
       "      <th>2</th>\n",
       "      <td>VWC2L</td>\n",
       "      <td>TFAP2C</td>\n",
       "      <td>ZNF451</td>\n",
       "      <td>3NM_020526All miRNA predictions7.90hsa-miR-10b...</td>\n",
       "      <td>EPHA8</td>\n",
       "      <td>CAMK2G</td>\n",
       "    </tr>\n",
       "    <tr>\n",
       "      <th>3</th>\n",
       "      <td>DAZAP1</td>\n",
       "      <td>CSMD1</td>\n",
       "      <td>ZNF451</td>\n",
       "      <td>4NM_000840All miRNA predictions7.28hsa-miR-10b...</td>\n",
       "      <td>GRM3</td>\n",
       "      <td>ZMYND11</td>\n",
       "    </tr>\n",
       "    <tr>\n",
       "      <th>4</th>\n",
       "      <td>TFRC</td>\n",
       "      <td>RORA</td>\n",
       "      <td>GFOD2</td>\n",
       "      <td>5NM_018013All miRNA predictions6.25hsa-miR-10b...</td>\n",
       "      <td>FLJ10159</td>\n",
       "      <td>TRIM2</td>\n",
       "    </tr>\n",
       "  </tbody>\n",
       "</table>\n",
       "</div>"
      ],
      "text/plain": [
       "  Ortholog of target gene Gene Symbol         miRanda  \\\n",
       "0                  ELOVL2       KCNA6  GMEB2+D1:D2702   \n",
       "1                    BDNF        BDNF           VSIG2   \n",
       "2                   VWC2L      TFAP2C          ZNF451   \n",
       "3                  DAZAP1       CSMD1          ZNF451   \n",
       "4                    TFRC        RORA           GFOD2   \n",
       "\n",
       "                                              PicTar    search   result  \n",
       "0  Click here for detailed 3'utr alignments and l...   PRKWNK3     EBF2  \n",
       "1  2NM_020922All miRNA predictions8.35hsa-miR-10b...   PRKWNK3    NCOA6  \n",
       "2  3NM_020526All miRNA predictions7.90hsa-miR-10b...     EPHA8   CAMK2G  \n",
       "3  4NM_000840All miRNA predictions7.28hsa-miR-10b...      GRM3  ZMYND11  \n",
       "4  5NM_018013All miRNA predictions6.25hsa-miR-10b...  FLJ10159    TRIM2  "
      ]
     },
     "execution_count": 69,
     "metadata": {},
     "output_type": "execute_result"
    }
   ],
   "source": [
    "data['result'] = pd.Series(list(final))\n",
    "data.head()"
   ]
  },
  {
   "cell_type": "code",
   "execution_count": 70,
   "metadata": {
    "collapsed": false
   },
   "outputs": [
    {
     "data": {
      "text/html": [
       "<div>\n",
       "<table border=\"1\" class=\"dataframe\">\n",
       "  <thead>\n",
       "    <tr style=\"text-align: right;\">\n",
       "      <th></th>\n",
       "      <th>Ortholog of target gene</th>\n",
       "      <th>Gene Symbol</th>\n",
       "      <th>miRanda</th>\n",
       "      <th>PicTar</th>\n",
       "    </tr>\n",
       "  </thead>\n",
       "  <tbody>\n",
       "    <tr>\n",
       "      <th>0</th>\n",
       "      <td>TNXB</td>\n",
       "      <td>KLHL20</td>\n",
       "      <td>GMEB2</td>\n",
       "      <td>Click here for detailed 3'utr alignments and l...</td>\n",
       "    </tr>\n",
       "    <tr>\n",
       "      <th>1</th>\n",
       "      <td>AC002451.1</td>\n",
       "      <td>SCN2A</td>\n",
       "      <td>ZNF529</td>\n",
       "      <td>2NM_005664All miRNA predictions8.72hsa-miR-30c...</td>\n",
       "    </tr>\n",
       "    <tr>\n",
       "      <th>2</th>\n",
       "      <td>MKRN3</td>\n",
       "      <td>PHTF2</td>\n",
       "      <td>GRM5</td>\n",
       "      <td>3NM_003586All miRNA predictions8.25hsa-miR-30c...</td>\n",
       "    </tr>\n",
       "    <tr>\n",
       "      <th>3</th>\n",
       "      <td>EED</td>\n",
       "      <td>WDR7</td>\n",
       "      <td>CHN1</td>\n",
       "      <td>4NM_003797All miRNA predictions7.97hsa-miR-30c...</td>\n",
       "    </tr>\n",
       "    <tr>\n",
       "      <th>4</th>\n",
       "      <td>DLGAP1</td>\n",
       "      <td>RFX7</td>\n",
       "      <td>VSIG2</td>\n",
       "      <td>5NM_014494All miRNA predictions7.88hsa-miR-30c...</td>\n",
       "    </tr>\n",
       "  </tbody>\n",
       "</table>\n",
       "</div>"
      ],
      "text/plain": [
       "  Ortholog of target gene Gene Symbol miRanda  \\\n",
       "0                    TNXB      KLHL20   GMEB2   \n",
       "1              AC002451.1       SCN2A  ZNF529   \n",
       "2                   MKRN3       PHTF2    GRM5   \n",
       "3                     EED        WDR7    CHN1   \n",
       "4                  DLGAP1        RFX7   VSIG2   \n",
       "\n",
       "                                              PicTar  \n",
       "0  Click here for detailed 3'utr alignments and l...  \n",
       "1  2NM_005664All miRNA predictions8.72hsa-miR-30c...  \n",
       "2  3NM_003586All miRNA predictions8.25hsa-miR-30c...  \n",
       "3  4NM_003797All miRNA predictions7.97hsa-miR-30c...  \n",
       "4  5NM_014494All miRNA predictions7.88hsa-miR-30c...  "
      ]
     },
     "execution_count": 70,
     "metadata": {},
     "output_type": "execute_result"
    }
   ],
   "source": [
    "data2 = pd.read_excel(filename, sheetname = 1)\n",
    "data2.head()"
   ]
  },
  {
   "cell_type": "code",
   "execution_count": 71,
   "metadata": {
    "collapsed": false
   },
   "outputs": [
    {
     "data": {
      "text/html": [
       "<div>\n",
       "<table border=\"1\" class=\"dataframe\">\n",
       "  <thead>\n",
       "    <tr style=\"text-align: right;\">\n",
       "      <th></th>\n",
       "      <th>Ortholog of target gene</th>\n",
       "      <th>Gene Symbol</th>\n",
       "      <th>miRanda</th>\n",
       "      <th>PicTar</th>\n",
       "      <th>search</th>\n",
       "    </tr>\n",
       "  </thead>\n",
       "  <tbody>\n",
       "    <tr>\n",
       "      <th>0</th>\n",
       "      <td>TNXB</td>\n",
       "      <td>KLHL20</td>\n",
       "      <td>GMEB2</td>\n",
       "      <td>Click here for detailed 3'utr alignments and l...</td>\n",
       "      <td>CELSR3</td>\n",
       "    </tr>\n",
       "    <tr>\n",
       "      <th>1</th>\n",
       "      <td>AC002451.1</td>\n",
       "      <td>SCN2A</td>\n",
       "      <td>ZNF529</td>\n",
       "      <td>2NM_005664All miRNA predictions8.72hsa-miR-30c...</td>\n",
       "      <td>MKRN3</td>\n",
       "    </tr>\n",
       "    <tr>\n",
       "      <th>2</th>\n",
       "      <td>MKRN3</td>\n",
       "      <td>PHTF2</td>\n",
       "      <td>GRM5</td>\n",
       "      <td>3NM_003586All miRNA predictions8.25hsa-miR-30c...</td>\n",
       "      <td>DOC2A</td>\n",
       "    </tr>\n",
       "    <tr>\n",
       "      <th>3</th>\n",
       "      <td>EED</td>\n",
       "      <td>WDR7</td>\n",
       "      <td>CHN1</td>\n",
       "      <td>4NM_003797All miRNA predictions7.97hsa-miR-30c...</td>\n",
       "      <td>EED</td>\n",
       "    </tr>\n",
       "    <tr>\n",
       "      <th>4</th>\n",
       "      <td>DLGAP1</td>\n",
       "      <td>RFX7</td>\n",
       "      <td>VSIG2</td>\n",
       "      <td>5NM_014494All miRNA predictions7.88hsa-miR-30c...</td>\n",
       "      <td>TNRC6</td>\n",
       "    </tr>\n",
       "  </tbody>\n",
       "</table>\n",
       "</div>"
      ],
      "text/plain": [
       "  Ortholog of target gene Gene Symbol miRanda  \\\n",
       "0                    TNXB      KLHL20   GMEB2   \n",
       "1              AC002451.1       SCN2A  ZNF529   \n",
       "2                   MKRN3       PHTF2    GRM5   \n",
       "3                     EED        WDR7    CHN1   \n",
       "4                  DLGAP1        RFX7   VSIG2   \n",
       "\n",
       "                                              PicTar  search  \n",
       "0  Click here for detailed 3'utr alignments and l...  CELSR3  \n",
       "1  2NM_005664All miRNA predictions8.72hsa-miR-30c...   MKRN3  \n",
       "2  3NM_003586All miRNA predictions8.25hsa-miR-30c...   DOC2A  \n",
       "3  4NM_003797All miRNA predictions7.97hsa-miR-30c...     EED  \n",
       "4  5NM_014494All miRNA predictions7.88hsa-miR-30c...   TNRC6  "
      ]
     },
     "execution_count": 71,
     "metadata": {},
     "output_type": "execute_result"
    }
   ],
   "source": [
    "data2['search'] = data2['PicTar'].str.replace(r'[^(]*\\(|\\)[^)]*', '')\n",
    "data2.head()"
   ]
  },
  {
   "cell_type": "code",
   "execution_count": 74,
   "metadata": {
    "collapsed": false
   },
   "outputs": [
    {
     "name": "stdout",
     "output_type": "stream",
     "text": [
      "612 205 114\n"
     ]
    },
    {
     "data": {
      "text/plain": [
       "{'ACVR1',\n",
       " 'ANKRA2',\n",
       " 'ANKRD17',\n",
       " 'ARID4B',\n",
       " 'ASCC3',\n",
       " 'ATP2A2',\n",
       " 'ATP2B2',\n",
       " 'BAHD1',\n",
       " 'BCOR',\n",
       " 'C10orf76',\n",
       " 'C9orf72',\n",
       " 'CACNB2',\n",
       " 'CALCR',\n",
       " 'CAMKK2',\n",
       " 'CAPN5',\n",
       " 'CAPZA1',\n",
       " 'CBFB',\n",
       " 'CCNE2',\n",
       " 'CCNK',\n",
       " 'CELSR3',\n",
       " 'CFL2',\n",
       " 'CHD7',\n",
       " 'CHST1',\n",
       " 'CPNE8',\n",
       " 'CPSF6',\n",
       " 'CSNK1A1',\n",
       " 'CSNK1G1',\n",
       " 'DDIT4',\n",
       " 'DGKZ',\n",
       " 'DLGAP4',\n",
       " 'DLL4',\n",
       " 'DNMT3A',\n",
       " 'DOCK7',\n",
       " 'DOLPP1',\n",
       " 'DPYSL2',\n",
       " 'EDNRA',\n",
       " 'EED',\n",
       " 'EFNA3',\n",
       " 'EIF5A2',\n",
       " 'ELL2',\n",
       " 'ELMOD2',\n",
       " 'EXTL2',\n",
       " 'FAM43A',\n",
       " 'FAM49A',\n",
       " 'FRK',\n",
       " 'FXR1',\n",
       " 'GALNT2',\n",
       " 'GALNT7',\n",
       " 'GFPT2',\n",
       " 'GJA1',\n",
       " 'GLDC',\n",
       " 'GNAI2',\n",
       " 'GRM3',\n",
       " 'HERC2',\n",
       " 'HOXA1',\n",
       " 'ICK',\n",
       " 'IL1A',\n",
       " 'IRF4',\n",
       " 'KIAA0355',\n",
       " 'KPNA3',\n",
       " 'LHX8',\n",
       " 'MAN1A2',\n",
       " 'MAN1B1',\n",
       " 'MBNL3',\n",
       " 'MKRN3',\n",
       " 'MMD',\n",
       " 'MYBL2',\n",
       " 'NAGPA',\n",
       " 'NDEL1',\n",
       " 'NEDD4',\n",
       " 'NEUROD6',\n",
       " 'NHS',\n",
       " 'NKX2-2',\n",
       " 'OMG',\n",
       " 'PAWR',\n",
       " 'PCDH10',\n",
       " 'PER2',\n",
       " 'PHTF2',\n",
       " 'PNN',\n",
       " 'PPP1R12A',\n",
       " 'PPP3R1',\n",
       " 'PRICKLE1',\n",
       " 'RAB11A',\n",
       " 'RAD23B',\n",
       " 'RAI14',\n",
       " 'RAP2C',\n",
       " 'RARG',\n",
       " 'RASA1',\n",
       " 'RASD1',\n",
       " 'RRAD',\n",
       " 'SCAMP1',\n",
       " 'SCN3A',\n",
       " 'SCN8A',\n",
       " 'SEC23A',\n",
       " 'SEMA6D',\n",
       " 'SERPINE1',\n",
       " 'SLC9A8',\n",
       " 'SON',\n",
       " 'STAG2',\n",
       " 'STC1',\n",
       " 'STIM2',\n",
       " 'STK35',\n",
       " 'SYNGR3',\n",
       " 'TAB3',\n",
       " 'TAOK1',\n",
       " 'TIA1',\n",
       " 'TRPS1',\n",
       " 'UBE2I',\n",
       " 'UBE2J1',\n",
       " 'XPR1',\n",
       " 'YTHDF3',\n",
       " 'ZCCHC2',\n",
       " 'ZNF644',\n",
       " 'ZNRF1'}"
      ]
     },
     "execution_count": 74,
     "metadata": {},
     "output_type": "execute_result"
    }
   ],
   "source": [
    "uniques24 = set(data2['search'].unique().ravel())\n",
    "uniques21 = set(data2['Ortholog of target gene'].unique().ravel())\n",
    "uniques22 = set(data2['Gene Symbol'].unique().ravel())\n",
    "uniques23 = set(data2['miRanda'].unique().ravel())\n",
    "\n",
    "result21 = uniques21.intersection(uniques22) \n",
    "result22 = uniques23.intersection(uniques24)\n",
    "final2 = result21.intersection(result22)\n",
    "print (len(result21), len(result22), len(final2))\n",
    "\n",
    "final2"
   ]
  },
  {
   "cell_type": "code",
   "execution_count": 75,
   "metadata": {
    "collapsed": false
   },
   "outputs": [
    {
     "data": {
      "text/html": [
       "<div>\n",
       "<table border=\"1\" class=\"dataframe\">\n",
       "  <thead>\n",
       "    <tr style=\"text-align: right;\">\n",
       "      <th></th>\n",
       "      <th>Ortholog of target gene</th>\n",
       "      <th>Gene Symbol</th>\n",
       "      <th>miRanda</th>\n",
       "      <th>PicTar</th>\n",
       "      <th>search</th>\n",
       "      <th>result</th>\n",
       "    </tr>\n",
       "  </thead>\n",
       "  <tbody>\n",
       "    <tr>\n",
       "      <th>0</th>\n",
       "      <td>TNXB</td>\n",
       "      <td>KLHL20</td>\n",
       "      <td>GMEB2</td>\n",
       "      <td>Click here for detailed 3'utr alignments and l...</td>\n",
       "      <td>CELSR3</td>\n",
       "      <td>MKRN3</td>\n",
       "    </tr>\n",
       "    <tr>\n",
       "      <th>1</th>\n",
       "      <td>AC002451.1</td>\n",
       "      <td>SCN2A</td>\n",
       "      <td>ZNF529</td>\n",
       "      <td>2NM_005664All miRNA predictions8.72hsa-miR-30c...</td>\n",
       "      <td>MKRN3</td>\n",
       "      <td>TRPS1</td>\n",
       "    </tr>\n",
       "    <tr>\n",
       "      <th>2</th>\n",
       "      <td>MKRN3</td>\n",
       "      <td>PHTF2</td>\n",
       "      <td>GRM5</td>\n",
       "      <td>3NM_003586All miRNA predictions8.25hsa-miR-30c...</td>\n",
       "      <td>DOC2A</td>\n",
       "      <td>KIAA0355</td>\n",
       "    </tr>\n",
       "    <tr>\n",
       "      <th>3</th>\n",
       "      <td>EED</td>\n",
       "      <td>WDR7</td>\n",
       "      <td>CHN1</td>\n",
       "      <td>4NM_003797All miRNA predictions7.97hsa-miR-30c...</td>\n",
       "      <td>EED</td>\n",
       "      <td>STIM2</td>\n",
       "    </tr>\n",
       "    <tr>\n",
       "      <th>4</th>\n",
       "      <td>DLGAP1</td>\n",
       "      <td>RFX7</td>\n",
       "      <td>VSIG2</td>\n",
       "      <td>5NM_014494All miRNA predictions7.88hsa-miR-30c...</td>\n",
       "      <td>TNRC6</td>\n",
       "      <td>DPYSL2</td>\n",
       "    </tr>\n",
       "  </tbody>\n",
       "</table>\n",
       "</div>"
      ],
      "text/plain": [
       "  Ortholog of target gene Gene Symbol miRanda  \\\n",
       "0                    TNXB      KLHL20   GMEB2   \n",
       "1              AC002451.1       SCN2A  ZNF529   \n",
       "2                   MKRN3       PHTF2    GRM5   \n",
       "3                     EED        WDR7    CHN1   \n",
       "4                  DLGAP1        RFX7   VSIG2   \n",
       "\n",
       "                                              PicTar  search    result  \n",
       "0  Click here for detailed 3'utr alignments and l...  CELSR3     MKRN3  \n",
       "1  2NM_005664All miRNA predictions8.72hsa-miR-30c...   MKRN3     TRPS1  \n",
       "2  3NM_003586All miRNA predictions8.25hsa-miR-30c...   DOC2A  KIAA0355  \n",
       "3  4NM_003797All miRNA predictions7.97hsa-miR-30c...     EED     STIM2  \n",
       "4  5NM_014494All miRNA predictions7.88hsa-miR-30c...   TNRC6    DPYSL2  "
      ]
     },
     "execution_count": 75,
     "metadata": {},
     "output_type": "execute_result"
    }
   ],
   "source": [
    "data2['result'] = pd.Series(list(final2))\n",
    "data2.head()"
   ]
  },
  {
   "cell_type": "code",
   "execution_count": 76,
   "metadata": {
    "collapsed": false
   },
   "outputs": [
    {
     "data": {
      "text/html": [
       "<div>\n",
       "<table border=\"1\" class=\"dataframe\">\n",
       "  <thead>\n",
       "    <tr style=\"text-align: right;\">\n",
       "      <th></th>\n",
       "      <th>Ortholog of target gene</th>\n",
       "      <th>Gene Symbol</th>\n",
       "    </tr>\n",
       "  </thead>\n",
       "  <tbody>\n",
       "    <tr>\n",
       "      <th>0</th>\n",
       "      <td>SLC25A23</td>\n",
       "      <td>FAM13A</td>\n",
       "    </tr>\n",
       "    <tr>\n",
       "      <th>1</th>\n",
       "      <td>TMEM95</td>\n",
       "      <td>CD37</td>\n",
       "    </tr>\n",
       "    <tr>\n",
       "      <th>2</th>\n",
       "      <td>C12orf71</td>\n",
       "      <td>SLC25A23</td>\n",
       "    </tr>\n",
       "    <tr>\n",
       "      <th>3</th>\n",
       "      <td>VPREB1</td>\n",
       "      <td>KLHL28</td>\n",
       "    </tr>\n",
       "    <tr>\n",
       "      <th>4</th>\n",
       "      <td>TAC3</td>\n",
       "      <td>FAM60A</td>\n",
       "    </tr>\n",
       "  </tbody>\n",
       "</table>\n",
       "</div>"
      ],
      "text/plain": [
       "  Ortholog of target gene Gene Symbol\n",
       "0                SLC25A23      FAM13A\n",
       "1                  TMEM95        CD37\n",
       "2                C12orf71    SLC25A23\n",
       "3                  VPREB1      KLHL28\n",
       "4                    TAC3      FAM60A"
      ]
     },
     "execution_count": 76,
     "metadata": {},
     "output_type": "execute_result"
    }
   ],
   "source": [
    "data3 = pd.read_excel(filename, sheetname = 2)\n",
    "data3.head()"
   ]
  },
  {
   "cell_type": "code",
   "execution_count": 78,
   "metadata": {
    "collapsed": false
   },
   "outputs": [],
   "source": [
    "unique31 = set(data3['Ortholog of target gene']).intersection(data3['Gene Symbol'])"
   ]
  },
  {
   "cell_type": "code",
   "execution_count": 79,
   "metadata": {
    "collapsed": false
   },
   "outputs": [
    {
     "name": "stdout",
     "output_type": "stream",
     "text": [
      "{'APPBP2', 'DCN', 'DMRTC2', 'FKBP7', 'SRGAP1', 'GPX5', 'MCM6', 'GALNT11', 'PLK3', 'INSM2', 'EN2', 'USP4', 'PORCN', 'ZMAT2', 'TULP4', 'RASL11B', 'KLHL28', 'HEXIM1', 'MMRN2', 'MYO18B', 'PDP1', 'AKAP12', 'ZNF780A', 'FCRLA', 'INPP5F', 'SRP68', 'CPM', 'C12orf71', 'ATP6V0A1', 'FAM13A', 'KLHL6', 'BBX', 'HSF2BP', 'TNFAIP1', 'PAH', 'DDX58', 'GM2A', 'WDFY3', 'SMOC2', 'ABCD2', 'WDR89', 'ITPK1', 'KBTBD12', 'FAM60A', 'MB21D2', 'ARL6IP5', 'EFNB1', 'CPPED1', 'ELAVL3', 'SPTY2D1', 'CREB3L2', 'CELF6', 'KCND2', 'NHSL1', 'TADA3', 'NIPAL4', 'APOLD1', 'BAIAP2', 'LYPD6', 'PIPOX', 'H2AFY', 'AFTPH', 'VSIG1', 'MRPL22', 'ADAL', 'SLC25A23', 'MTMR1', 'CABP5', 'SYNRG', 'TIMM9', 'SLC38A9', 'NTRK2', 'DIP2B', 'TFPI2', 'OTOP2', 'CLIP3', 'SYN1', 'SHC1', 'RBMS3', 'CDK9', 'GYPE', 'PAPLN', 'ADPGK', 'C11orf87', 'TRIM50', 'ICOSLG', 'CREB3L1', 'MAML1', 'KCNJ8', 'GNL3L', 'ZNF229', 'PIK3CA', 'CIDEB', 'SLC17A2', 'PLEKHH1', 'SEMA5A', 'SLC25A38', 'STMN2', 'GOLT1A', 'PLEKHB1', 'SLC39A13', 'ZNF24', 'CHMP3', 'ADAM23', 'BTRC', 'LYN', 'NFAT5', 'RNF103-CHMP3', 'BHLHE41', 'ZNF81', 'TPP1', 'MORN4', 'TUBB', 'LRRC34', 'HNRNPUL1', 'RPS6KA6', 'SCUBE2', 'RAX2', 'MEX3D', 'SLC6A1', 'HLA-DOB', 'SLC1A2', 'CACNA2D2', 'GIT1', 'CSF1R', 'GRAMD1B', 'CUX1', 'ST3GAL2', 'DPF2', 'PGM3', 'DLC1', 'TMEM194B', 'KY', 'CLEC12B', 'ARFRP1', 'SAMD4B', 'ZC3H12D', 'DSCAML1', 'AP3M2', 'IPO7', 'DISC1', 'DUSP3'}\n",
      "142\n"
     ]
    }
   ],
   "source": [
    "print (unique31)\n",
    "print (len(unique31))\n"
   ]
  },
  {
   "cell_type": "code",
   "execution_count": 80,
   "metadata": {
    "collapsed": false
   },
   "outputs": [
    {
     "data": {
      "text/html": [
       "<div>\n",
       "<table border=\"1\" class=\"dataframe\">\n",
       "  <thead>\n",
       "    <tr style=\"text-align: right;\">\n",
       "      <th></th>\n",
       "      <th>Ortholog of target gene</th>\n",
       "      <th>Gene Symbol</th>\n",
       "      <th>result</th>\n",
       "    </tr>\n",
       "  </thead>\n",
       "  <tbody>\n",
       "    <tr>\n",
       "      <th>0</th>\n",
       "      <td>SLC25A23</td>\n",
       "      <td>FAM13A</td>\n",
       "      <td>APPBP2</td>\n",
       "    </tr>\n",
       "    <tr>\n",
       "      <th>1</th>\n",
       "      <td>TMEM95</td>\n",
       "      <td>CD37</td>\n",
       "      <td>DCN</td>\n",
       "    </tr>\n",
       "    <tr>\n",
       "      <th>2</th>\n",
       "      <td>C12orf71</td>\n",
       "      <td>SLC25A23</td>\n",
       "      <td>DMRTC2</td>\n",
       "    </tr>\n",
       "    <tr>\n",
       "      <th>3</th>\n",
       "      <td>VPREB1</td>\n",
       "      <td>KLHL28</td>\n",
       "      <td>FKBP7</td>\n",
       "    </tr>\n",
       "    <tr>\n",
       "      <th>4</th>\n",
       "      <td>TAC3</td>\n",
       "      <td>FAM60A</td>\n",
       "      <td>SRGAP1</td>\n",
       "    </tr>\n",
       "  </tbody>\n",
       "</table>\n",
       "</div>"
      ],
      "text/plain": [
       "  Ortholog of target gene Gene Symbol  result\n",
       "0                SLC25A23      FAM13A  APPBP2\n",
       "1                  TMEM95        CD37     DCN\n",
       "2                C12orf71    SLC25A23  DMRTC2\n",
       "3                  VPREB1      KLHL28   FKBP7\n",
       "4                    TAC3      FAM60A  SRGAP1"
      ]
     },
     "execution_count": 80,
     "metadata": {},
     "output_type": "execute_result"
    }
   ],
   "source": [
    "data3['result'] = pd.Series(list(unique31))\n",
    "data3.head()"
   ]
  },
  {
   "cell_type": "code",
   "execution_count": 59,
   "metadata": {
    "collapsed": false
   },
   "outputs": [
    {
     "name": "stdout",
     "output_type": "stream",
     "text": [
      "{'RAB9B', 'LYSMD3', 'SEMA3A', 'RBM41', 'C1orf27', 'TLR4', 'PRDM1', 'CCNL2', 'PALM2-AKAP2', 'BEST1', 'HSPB8', 'PBRM1', 'PPP3R1', 'ADD1', 'POM121', 'FGF14', 'CAMSAP2', 'ESCO1', 'GIPC3', 'KIAA1462', 'FPGT', 'HSP90AA1', 'EEA1', 'FAM63B', 'TRAM1L1', 'JAK2', 'NCK1', 'MMAA', 'HAPLN1', 'SLC39A14', 'PLXNA2', 'XYLB', 'CYP4F22', 'HGD', 'CNTNAP5', 'ALS2CR11', 'NDUFB8', 'MTF2', 'RAD51AP1', 'PRKCA', 'WDFY2', 'INPP5J', 'SSBP2', 'TSHZ3', 'COL5A3', 'RBFOX2', 'PPAP2A', 'KIF3B', 'MMP19', 'LRRTM4', 'STAG1', 'UGT8', 'RNF150', 'TXNDC8', 'SPERT', 'OSBPL11', 'C20orf112', 'MBNL1', 'RAP2C', 'RAP2A', 'GINS3', 'DIS3L2', 'BSPRY', 'LMTK2', 'SLC45A3', 'LAP3', 'RBM27', 'LCOR', 'COCH', 'GLRA3', 'DRD5', 'ZDHHC17', 'ALDH3A1', 'SLC9A2', 'CUX2', 'PDK4', 'DTWD2', 'JDP2', 'TOR2A', 'TRAPPC3', 'CSMD1', 'C14orf37', 'ZBED4', 'USO1', 'CPT1A', 'STARD13', 'NCBP2', 'DCC', 'WWC2', 'ATCAY', 'RASA3', 'KLHL14', 'C1QTNF1', 'CELF4', 'C12orf49', 'NUDT4', 'CDC27', 'MRPS2', 'UNC5D', 'CELF1', 'CSNK2A1', 'GPR176', 'YBX2', 'GLYAT', 'PRKCE', 'CAMLG', 'SEL1L', 'RFX3', 'CKLF', 'KPNA3', 'SATB2', 'SEMA6A', 'KIF2A', 'USP31', 'OC90', 'NPAT', 'NXN', 'PPP6C', 'IKBKAP', 'IRF2', 'FUT8', 'MYSM1', 'ATG2B', 'THAP2', 'QSER1', 'SEC23B', 'TSPAN2', 'POU2F3', 'KSR1', 'SLC10A2', 'GNRHR', 'TGFB2', 'ARHGEF12', 'VSIG10L', 'OTUD7B', 'HOXA9', 'PARPBP', 'CHD9', 'PHF13', 'ZNF827', 'BCL11B', 'LPGAT1', 'C7orf60', 'AKAP2', 'ZNF30', 'EXTL2', 'MAOA', 'ATE1', 'TECTB', 'COMMD8', 'SLCO3A1', 'HUNK', 'NUDCD1', 'NEGR1', 'NFXL1', 'PIKFYVE', 'HOOK1', 'KIAA1244', 'KCNA1', 'ARFGEF1', 'USP8', 'FYB', 'RTN3', 'EVI2A', 'MFSD6', 'CPEB3', 'ZKSCAN8', 'SAMD8', 'CHD1', 'LPPR4', 'VPS13C', 'CCNJ', 'ACTR6', 'RCHY1', 'GGCX', 'RB1', 'C19orf82', 'FSCN1', 'STAMBP', 'FBXL2', 'YWHAB', 'GAPVD1', 'LIX1', 'PITPNC1', 'MORN5', 'SYT4', 'INSR', 'TCF12', 'SGCG', 'VASN', 'NEFH', 'CEBPG', 'OXGR1', 'POLG', 'STAT1', 'OXR1', 'ZC3H7A', 'WDR26', 'CREB5', 'RGS21', 'KCNV2', 'MRC1', 'B3GALT5', 'STK4', 'OSGIN2', 'IER3', 'CAND2', 'CDS1', 'BACH2', 'VGLL3', 'SLIT3', 'PRKX', 'KMT2D', 'EBF1', 'MAU2', 'MLH3', 'KIAA1033', 'SLC11A2', 'DUSP19', 'ACER2', 'EI24', 'SFMBT1', 'NRIP1', 'SBSPON', 'MDGA2', 'ZDHHC15', 'TYW1', 'ESRRB', 'FBXO11', 'PTBP3', 'FZD2', 'GIT2', 'NRCAM', 'F2RL2', 'DUSP3'}\n",
      "235\n"
     ]
    }
   ],
   "source": [
    "data4 = pd.read_excel(filename, sheetname = 3)\n",
    "data4.head()\n",
    "unique1 = set(data4['Ortholog of target gene']).intersection(data4['Gene Symbol'])\n",
    "print (unique1)\n",
    "print (len(unique1))\n"
   ]
  },
  {
   "cell_type": "code",
   "execution_count": 63,
   "metadata": {
    "collapsed": false
   },
   "outputs": [],
   "source": [
    "data4['result'] = pd.Series(list(unique1))"
   ]
  },
  {
   "cell_type": "code",
   "execution_count": 64,
   "metadata": {
    "collapsed": false
   },
   "outputs": [
    {
     "data": {
      "text/html": [
       "<div>\n",
       "<table border=\"1\" class=\"dataframe\">\n",
       "  <thead>\n",
       "    <tr style=\"text-align: right;\">\n",
       "      <th></th>\n",
       "      <th>Ortholog of target gene</th>\n",
       "      <th>Gene Symbol</th>\n",
       "      <th>result</th>\n",
       "    </tr>\n",
       "  </thead>\n",
       "  <tbody>\n",
       "    <tr>\n",
       "      <th>0</th>\n",
       "      <td>GIPC3</td>\n",
       "      <td>SEL1L</td>\n",
       "      <td>RAB9B</td>\n",
       "    </tr>\n",
       "    <tr>\n",
       "      <th>1</th>\n",
       "      <td>TNFSF14</td>\n",
       "      <td>KMT2D</td>\n",
       "      <td>LYSMD3</td>\n",
       "    </tr>\n",
       "    <tr>\n",
       "      <th>2</th>\n",
       "      <td>SLC27A5</td>\n",
       "      <td>STK4</td>\n",
       "      <td>SEMA3A</td>\n",
       "    </tr>\n",
       "    <tr>\n",
       "      <th>3</th>\n",
       "      <td>CYP4F22</td>\n",
       "      <td>BACH2</td>\n",
       "      <td>RBM41</td>\n",
       "    </tr>\n",
       "    <tr>\n",
       "      <th>4</th>\n",
       "      <td>STAT1</td>\n",
       "      <td>FBXL2</td>\n",
       "      <td>C1orf27</td>\n",
       "    </tr>\n",
       "  </tbody>\n",
       "</table>\n",
       "</div>"
      ],
      "text/plain": [
       "  Ortholog of target gene Gene Symbol   result\n",
       "0                   GIPC3       SEL1L    RAB9B\n",
       "1                 TNFSF14       KMT2D   LYSMD3\n",
       "2                 SLC27A5        STK4   SEMA3A\n",
       "3                 CYP4F22       BACH2    RBM41\n",
       "4                   STAT1       FBXL2  C1orf27"
      ]
     },
     "execution_count": 64,
     "metadata": {},
     "output_type": "execute_result"
    }
   ],
   "source": [
    "data4"
   ]
  },
  {
   "cell_type": "code",
   "execution_count": 83,
   "metadata": {
    "collapsed": false
   },
   "outputs": [],
   "source": [
    "writer = pd.ExcelWriter('output_LIN.xlsx')\n",
    "data.to_excel(writer,'10b')\n",
    "data2.to_excel(writer,'30c')\n",
    "data3.to_excel(writer,'113')\n",
    "data4.to_excel(writer,'139')\n",
    "writer.save()"
   ]
  },
  {
   "cell_type": "code",
   "execution_count": null,
   "metadata": {
    "collapsed": true
   },
   "outputs": [],
   "source": []
  }
 ],
 "metadata": {
  "kernelspec": {
   "display_name": "Python 3",
   "language": "python",
   "name": "python3"
  },
  "language_info": {
   "codemirror_mode": {
    "name": "ipython",
    "version": 3
   },
   "file_extension": ".py",
   "mimetype": "text/x-python",
   "name": "python",
   "nbconvert_exporter": "python",
   "pygments_lexer": "ipython3",
   "version": "3.4.4"
  }
 },
 "nbformat": 4,
 "nbformat_minor": 0
}
